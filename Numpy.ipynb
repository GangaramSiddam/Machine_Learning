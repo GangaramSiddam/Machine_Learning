{
  "cells": [
    {
      "cell_type": "markdown",
      "metadata": {
        "id": "view-in-github",
        "colab_type": "text"
      },
      "source": [
        "<a href=\"https://colab.research.google.com/github/GangaramSiddam/Machine_Learning/blob/main/Numpy.ipynb\" target=\"_parent\"><img src=\"https://colab.research.google.com/assets/colab-badge.svg\" alt=\"Open In Colab\"/></a>"
      ]
    },
    {
      "cell_type": "code",
      "execution_count": null,
      "id": "fb9e3688",
      "metadata": {
        "id": "fb9e3688"
      },
      "outputs": [],
      "source": [
        "import numpy as np"
      ]
    },
    {
      "cell_type": "code",
      "execution_count": null,
      "id": "655b2fec",
      "metadata": {
        "id": "655b2fec",
        "outputId": "ad015f37-466b-429a-b7a9-1b01450310f2"
      },
      "outputs": [
        {
          "data": {
            "text/plain": [
              "array([1, 2, 3, 4, 5])"
            ]
          },
          "execution_count": 2,
          "metadata": {},
          "output_type": "execute_result"
        }
      ],
      "source": [
        "arr1 = np.array([1,2,3,4,5])\n",
        "arr1"
      ]
    },
    {
      "cell_type": "code",
      "execution_count": null,
      "id": "77110e31",
      "metadata": {
        "id": "77110e31",
        "outputId": "f4424ba1-85b2-4cae-d61d-37763aff3ff4"
      },
      "outputs": [
        {
          "data": {
            "text/plain": [
              "numpy.ndarray"
            ]
          },
          "execution_count": 5,
          "metadata": {},
          "output_type": "execute_result"
        }
      ],
      "source": [
        "type(arr1)"
      ]
    },
    {
      "cell_type": "code",
      "execution_count": null,
      "id": "ff9ca386",
      "metadata": {
        "id": "ff9ca386",
        "outputId": "78268bb0-7784-46fe-f405-17484aeebff9"
      },
      "outputs": [
        {
          "data": {
            "text/plain": [
              "array([[1, 2, 3],\n",
              "       [4, 5, 6]])"
            ]
          },
          "execution_count": 3,
          "metadata": {},
          "output_type": "execute_result"
        }
      ],
      "source": [
        "arr2 = np.array([[1,2,3],[4,5,6]])\n",
        "arr2"
      ]
    },
    {
      "cell_type": "code",
      "execution_count": null,
      "id": "aa21ff1f",
      "metadata": {
        "id": "aa21ff1f",
        "outputId": "fe146300-4ec2-41f3-9fa8-dfbb23efca67"
      },
      "outputs": [
        {
          "data": {
            "text/plain": [
              "array([[0., 0., 0.],\n",
              "       [0., 0., 0.],\n",
              "       [0., 0., 0.],\n",
              "       [0., 0., 0.],\n",
              "       [0., 0., 0.]])"
            ]
          },
          "execution_count": 8,
          "metadata": {},
          "output_type": "execute_result"
        }
      ],
      "source": [
        "arr3 = np.zeros((5,3))\n",
        "arr3"
      ]
    },
    {
      "cell_type": "code",
      "execution_count": null,
      "id": "62124246",
      "metadata": {
        "id": "62124246",
        "outputId": "071083dc-6cfe-44ee-b6e1-2d39d822dcd6"
      },
      "outputs": [
        {
          "data": {
            "text/plain": [
              "array([[1., 1.],\n",
              "       [1., 1.],\n",
              "       [1., 1.]])"
            ]
          },
          "execution_count": 9,
          "metadata": {},
          "output_type": "execute_result"
        }
      ],
      "source": [
        "arr4 = np.ones((3,2))\n",
        "arr4"
      ]
    },
    {
      "cell_type": "code",
      "execution_count": null,
      "id": "ae0ce49d",
      "metadata": {
        "id": "ae0ce49d",
        "outputId": "2c67ee0b-ef23-4fbf-e90a-8af95008e221"
      },
      "outputs": [
        {
          "data": {
            "text/plain": [
              "array([[1., 0., 0., 0., 0.],\n",
              "       [0., 1., 0., 0., 0.],\n",
              "       [0., 0., 1., 0., 0.],\n",
              "       [0., 0., 0., 1., 0.],\n",
              "       [0., 0., 0., 0., 1.]])"
            ]
          },
          "execution_count": 10,
          "metadata": {},
          "output_type": "execute_result"
        }
      ],
      "source": [
        "arr5 = np.identity(5)\n",
        "arr5"
      ]
    },
    {
      "cell_type": "code",
      "execution_count": null,
      "id": "ff6eeae1",
      "metadata": {
        "id": "ff6eeae1",
        "outputId": "5696bb23-14d4-4478-a04f-f386267c07d2"
      },
      "outputs": [
        {
          "data": {
            "text/plain": [
              "array([0, 1, 2, 3, 4, 5, 6, 7, 8, 9])"
            ]
          },
          "execution_count": 11,
          "metadata": {},
          "output_type": "execute_result"
        }
      ],
      "source": [
        "arr6 = np.arange(10)\n",
        "arr6"
      ]
    },
    {
      "cell_type": "code",
      "execution_count": null,
      "id": "676025c6",
      "metadata": {
        "id": "676025c6",
        "outputId": "e54cc536-0861-489d-fc5d-27727c9d7bf2"
      },
      "outputs": [
        {
          "data": {
            "text/plain": [
              "array([ 5,  7,  9, 11, 13])"
            ]
          },
          "execution_count": 12,
          "metadata": {},
          "output_type": "execute_result"
        }
      ],
      "source": [
        "arr7 = np.arange(5,15,2)\n",
        "arr7"
      ]
    },
    {
      "cell_type": "code",
      "execution_count": null,
      "id": "c954f18e",
      "metadata": {
        "id": "c954f18e",
        "outputId": "5ad37691-13ca-425b-97b2-9df7a84a3110"
      },
      "outputs": [
        {
          "data": {
            "text/plain": [
              "array([2.  , 2.25, 2.5 , 2.75, 3.  ])"
            ]
          },
          "execution_count": 13,
          "metadata": {},
          "output_type": "execute_result"
        }
      ],
      "source": [
        "arr8 = np.linspace(2.0, 3.0, num=5)\n",
        "arr8\n",
        "\n",
        "#returns 'num' with equidistance"
      ]
    },
    {
      "cell_type": "code",
      "execution_count": null,
      "id": "9f8bd2b3",
      "metadata": {
        "id": "9f8bd2b3",
        "outputId": "1bf58f0b-9bd9-4b84-8679-a924af3a3e13"
      },
      "outputs": [
        {
          "data": {
            "text/plain": [
              "array([2. , 3.5, 5. ])"
            ]
          },
          "execution_count": 16,
          "metadata": {},
          "output_type": "execute_result"
        }
      ],
      "source": [
        "arr9 = np.linspace(2,5,3)\n",
        "arr9"
      ]
    },
    {
      "cell_type": "code",
      "execution_count": null,
      "id": "5f09acfd",
      "metadata": {
        "id": "5f09acfd",
        "outputId": "a2076f67-b9d1-43ea-9b38-0dbad75aa1b8"
      },
      "outputs": [
        {
          "data": {
            "text/plain": [
              "array([2. , 3.5, 5. ])"
            ]
          },
          "execution_count": 17,
          "metadata": {},
          "output_type": "execute_result"
        }
      ],
      "source": [
        "arr10 = arr9.copy()\n",
        "arr10"
      ]
    },
    {
      "cell_type": "markdown",
      "id": "48a554cc",
      "metadata": {
        "id": "48a554cc"
      },
      "source": [
        "# shapes\n"
      ]
    },
    {
      "cell_type": "code",
      "execution_count": null,
      "id": "004ee5ed",
      "metadata": {
        "id": "004ee5ed",
        "outputId": "dda24981-8c15-477d-d479-99912ba1b75d"
      },
      "outputs": [
        {
          "data": {
            "text/plain": [
              "array([1, 2, 3, 4, 5])"
            ]
          },
          "execution_count": 18,
          "metadata": {},
          "output_type": "execute_result"
        }
      ],
      "source": [
        "arr1\n"
      ]
    },
    {
      "cell_type": "code",
      "execution_count": null,
      "id": "8e13e3e1",
      "metadata": {
        "id": "8e13e3e1",
        "outputId": "74b50b1b-77c5-4071-c620-ee00d47e269c"
      },
      "outputs": [
        {
          "data": {
            "text/plain": [
              "(5,)"
            ]
          },
          "execution_count": 19,
          "metadata": {},
          "output_type": "execute_result"
        }
      ],
      "source": [
        "arr1.shape"
      ]
    },
    {
      "cell_type": "code",
      "execution_count": null,
      "id": "c612fa8f",
      "metadata": {
        "id": "c612fa8f",
        "outputId": "eb309e4e-2298-4a9e-e774-1d702d51941b"
      },
      "outputs": [
        {
          "data": {
            "text/plain": [
              "(2, 3)"
            ]
          },
          "execution_count": 20,
          "metadata": {},
          "output_type": "execute_result"
        }
      ],
      "source": [
        "arr2.shape"
      ]
    },
    {
      "cell_type": "code",
      "execution_count": null,
      "id": "4f1e514f",
      "metadata": {
        "id": "4f1e514f",
        "outputId": "61bb6054-3878-45d9-f82d-a81d527d38b9"
      },
      "outputs": [
        {
          "data": {
            "text/plain": [
              "array([[2, 5],\n",
              "       [6, 5],\n",
              "       [7, 8]])"
            ]
          },
          "execution_count": 21,
          "metadata": {},
          "output_type": "execute_result"
        }
      ],
      "source": [
        "ar1 = np.array([[2,5],[6,5],[7,8]])\n",
        "ar1"
      ]
    },
    {
      "cell_type": "code",
      "execution_count": null,
      "id": "5c8962d4",
      "metadata": {
        "id": "5c8962d4",
        "outputId": "e4d62b61-1b01-49cc-c550-282da78f54e3"
      },
      "outputs": [
        {
          "data": {
            "text/plain": [
              "(3, 2)"
            ]
          },
          "execution_count": 22,
          "metadata": {},
          "output_type": "execute_result"
        }
      ],
      "source": [
        "ar1.shape"
      ]
    },
    {
      "cell_type": "code",
      "execution_count": null,
      "id": "f30961a5",
      "metadata": {
        "id": "f30961a5",
        "outputId": "45dfd6f9-aa63-4342-c50b-c7f11063ffce"
      },
      "outputs": [
        {
          "data": {
            "text/plain": [
              "array([[[2, 5],\n",
              "        [9, 7]],\n",
              "\n",
              "       [[7, 3],\n",
              "        [9, 1]]])"
            ]
          },
          "execution_count": 27,
          "metadata": {},
          "output_type": "execute_result"
        }
      ],
      "source": [
        "ar2 = np.array([[[2,5],[9,7]],[[7,3],[9,1]]])\n",
        "ar2"
      ]
    },
    {
      "cell_type": "code",
      "execution_count": null,
      "id": "1501c1c7",
      "metadata": {
        "id": "1501c1c7",
        "outputId": "36d612ed-4085-4323-d7c2-a944bee60c75"
      },
      "outputs": [
        {
          "data": {
            "text/plain": [
              "(2, 2, 2)"
            ]
          },
          "execution_count": 28,
          "metadata": {},
          "output_type": "execute_result"
        }
      ],
      "source": [
        "ar2.shape"
      ]
    },
    {
      "cell_type": "code",
      "execution_count": null,
      "id": "1e851656",
      "metadata": {
        "id": "1e851656",
        "outputId": "9b90c6f8-6f3f-46ee-efbf-507d33d974f6"
      },
      "outputs": [
        {
          "data": {
            "text/plain": [
              "3"
            ]
          },
          "execution_count": 29,
          "metadata": {},
          "output_type": "execute_result"
        }
      ],
      "source": [
        "ar2.ndim"
      ]
    },
    {
      "cell_type": "code",
      "execution_count": null,
      "id": "b49e45d3",
      "metadata": {
        "id": "b49e45d3",
        "outputId": "3d97190b-06dc-4643-a18a-d399459096ee"
      },
      "outputs": [
        {
          "data": {
            "text/plain": [
              "2"
            ]
          },
          "execution_count": 30,
          "metadata": {},
          "output_type": "execute_result"
        }
      ],
      "source": [
        "arr2.ndim"
      ]
    },
    {
      "cell_type": "code",
      "execution_count": null,
      "id": "58a52dc5",
      "metadata": {
        "id": "58a52dc5",
        "outputId": "af54f72b-6561-429a-fc62-c76b10923af7"
      },
      "outputs": [
        {
          "data": {
            "text/plain": [
              "8"
            ]
          },
          "execution_count": 32,
          "metadata": {},
          "output_type": "execute_result"
        }
      ],
      "source": [
        "ar2.size #no of items"
      ]
    },
    {
      "cell_type": "code",
      "execution_count": null,
      "id": "a037e7af",
      "metadata": {
        "id": "a037e7af",
        "outputId": "01453ed8-2c12-4951-f6f6-2d651d47411b"
      },
      "outputs": [
        {
          "data": {
            "text/plain": [
              "4"
            ]
          },
          "execution_count": 33,
          "metadata": {},
          "output_type": "execute_result"
        }
      ],
      "source": [
        "ar2.itemsize"
      ]
    },
    {
      "cell_type": "code",
      "execution_count": null,
      "id": "1c9d0cee",
      "metadata": {
        "id": "1c9d0cee",
        "outputId": "584c4704-bc86-44d4-f128-045839e00d2b"
      },
      "outputs": [
        {
          "data": {
            "text/plain": [
              "4"
            ]
          },
          "execution_count": 34,
          "metadata": {},
          "output_type": "execute_result"
        }
      ],
      "source": [
        "arr1.itemsize\n",
        "#itemsize returns the size (in bytes) of each element of a NumPy array"
      ]
    },
    {
      "cell_type": "code",
      "execution_count": null,
      "id": "612b67a2",
      "metadata": {
        "id": "612b67a2",
        "outputId": "80f47e63-de57-4293-d702-daccc2a7b787"
      },
      "outputs": [
        {
          "data": {
            "text/plain": [
              "array([1., 2.])"
            ]
          },
          "execution_count": 37,
          "metadata": {},
          "output_type": "execute_result"
        }
      ],
      "source": [
        "aaa = np.array([1.0,2.0])\n",
        "aaa"
      ]
    },
    {
      "cell_type": "code",
      "execution_count": null,
      "id": "1abd1e0a",
      "metadata": {
        "id": "1abd1e0a",
        "outputId": "a113e953-959e-4a4e-d4ae-397f8a46e723"
      },
      "outputs": [
        {
          "data": {
            "text/plain": [
              "8"
            ]
          },
          "execution_count": 38,
          "metadata": {},
          "output_type": "execute_result"
        }
      ],
      "source": [
        "aaa.itemsize#float"
      ]
    },
    {
      "cell_type": "code",
      "execution_count": null,
      "id": "dff52aae",
      "metadata": {
        "id": "dff52aae",
        "outputId": "4d315582-2237-4e26-dca5-d30f352e7553"
      },
      "outputs": [
        {
          "data": {
            "text/plain": [
              "dtype('float64')"
            ]
          },
          "execution_count": 39,
          "metadata": {},
          "output_type": "execute_result"
        }
      ],
      "source": [
        "aaa.dtype"
      ]
    },
    {
      "cell_type": "code",
      "execution_count": null,
      "id": "3a42a71d",
      "metadata": {
        "id": "3a42a71d",
        "outputId": "d6129882-22c6-4d5e-b4b1-27630c44d4c0"
      },
      "outputs": [
        {
          "data": {
            "text/plain": [
              "dtype('int32')"
            ]
          },
          "execution_count": 40,
          "metadata": {},
          "output_type": "execute_result"
        }
      ],
      "source": [
        "arr1.dtype"
      ]
    },
    {
      "cell_type": "markdown",
      "id": "981505ac",
      "metadata": {
        "id": "981505ac"
      },
      "source": [
        "# type conversions"
      ]
    },
    {
      "cell_type": "code",
      "execution_count": null,
      "id": "ae04d790",
      "metadata": {
        "id": "ae04d790",
        "outputId": "a6294c52-b9f0-4b5b-ac52-cfa8c213ed44"
      },
      "outputs": [
        {
          "data": {
            "text/plain": [
              "array([[2, 5],\n",
              "       [6, 5],\n",
              "       [7, 8]])"
            ]
          },
          "execution_count": 41,
          "metadata": {},
          "output_type": "execute_result"
        }
      ],
      "source": [
        "ar1"
      ]
    },
    {
      "cell_type": "code",
      "execution_count": null,
      "id": "e8c2f1d5",
      "metadata": {
        "id": "e8c2f1d5",
        "outputId": "33ee1229-14c7-4d41-e045-df5e3c86e7f2"
      },
      "outputs": [
        {
          "data": {
            "text/plain": [
              "dtype('int32')"
            ]
          },
          "execution_count": 42,
          "metadata": {},
          "output_type": "execute_result"
        }
      ],
      "source": [
        "ar1.dtype"
      ]
    },
    {
      "cell_type": "code",
      "execution_count": null,
      "id": "796f5253",
      "metadata": {
        "id": "796f5253",
        "outputId": "109bbb8a-4db3-4db9-fba7-44c170761eca"
      },
      "outputs": [
        {
          "data": {
            "text/plain": [
              "array([[2., 5.],\n",
              "       [6., 5.],\n",
              "       [7., 8.]])"
            ]
          },
          "execution_count": 43,
          "metadata": {},
          "output_type": "execute_result"
        }
      ],
      "source": [
        "ar1.astype('float')"
      ]
    },
    {
      "cell_type": "code",
      "execution_count": null,
      "id": "035547f8",
      "metadata": {
        "id": "035547f8",
        "outputId": "5d3cf5ba-4f19-4460-ff6c-4a1a079675bf"
      },
      "outputs": [
        {
          "data": {
            "text/plain": [
              "dtype('int32')"
            ]
          },
          "execution_count": 44,
          "metadata": {},
          "output_type": "execute_result"
        }
      ],
      "source": [
        "ar1.dtype"
      ]
    },
    {
      "cell_type": "raw",
      "id": "2e2eeee7",
      "metadata": {
        "id": "2e2eeee7"
      },
      "source": [
        "# numpy arrays are faster than python list and they take less memory and convenient to use them in machine learning"
      ]
    },
    {
      "cell_type": "code",
      "execution_count": null,
      "id": "69cec127",
      "metadata": {
        "id": "69cec127"
      },
      "outputs": [],
      "source": [
        "#size efficiency\n",
        "\n",
        "lista = range(100)\n",
        "arrray = np.arange(100)"
      ]
    },
    {
      "cell_type": "code",
      "execution_count": null,
      "id": "d5e857c5",
      "metadata": {
        "id": "d5e857c5",
        "outputId": "71658244-8e36-4965-be40-38178d6501be"
      },
      "outputs": [
        {
          "data": {
            "text/plain": [
              "range(0, 100)"
            ]
          },
          "execution_count": 46,
          "metadata": {},
          "output_type": "execute_result"
        }
      ],
      "source": [
        "lista"
      ]
    },
    {
      "cell_type": "code",
      "execution_count": null,
      "id": "cf06073b",
      "metadata": {
        "id": "cf06073b",
        "outputId": "5f10d1f9-e548-4cd3-9dc9-a334edfea014"
      },
      "outputs": [
        {
          "data": {
            "text/plain": [
              "array([ 0,  1,  2,  3,  4,  5,  6,  7,  8,  9, 10, 11, 12, 13, 14, 15, 16,\n",
              "       17, 18, 19, 20, 21, 22, 23, 24, 25, 26, 27, 28, 29, 30, 31, 32, 33,\n",
              "       34, 35, 36, 37, 38, 39, 40, 41, 42, 43, 44, 45, 46, 47, 48, 49, 50,\n",
              "       51, 52, 53, 54, 55, 56, 57, 58, 59, 60, 61, 62, 63, 64, 65, 66, 67,\n",
              "       68, 69, 70, 71, 72, 73, 74, 75, 76, 77, 78, 79, 80, 81, 82, 83, 84,\n",
              "       85, 86, 87, 88, 89, 90, 91, 92, 93, 94, 95, 96, 97, 98, 99])"
            ]
          },
          "execution_count": 47,
          "metadata": {},
          "output_type": "execute_result"
        }
      ],
      "source": [
        "arrray"
      ]
    },
    {
      "cell_type": "code",
      "execution_count": null,
      "id": "050e95a1",
      "metadata": {
        "id": "050e95a1"
      },
      "outputs": [],
      "source": [
        "import sys"
      ]
    },
    {
      "cell_type": "code",
      "execution_count": null,
      "id": "ecebb7b5",
      "metadata": {
        "id": "ecebb7b5",
        "outputId": "0dae5c37-8b02-4b74-f8bb-80ea56e16606"
      },
      "outputs": [
        {
          "name": "stdout",
          "output_type": "stream",
          "text": [
            "2800\n"
          ]
        }
      ],
      "source": [
        "print(sys.getsizeof(87)*len(lista))"
      ]
    },
    {
      "cell_type": "code",
      "execution_count": null,
      "id": "627f66ae",
      "metadata": {
        "id": "627f66ae",
        "outputId": "48845031-2209-4b87-dd4d-9a07b2a98ec2"
      },
      "outputs": [
        {
          "name": "stdout",
          "output_type": "stream",
          "text": [
            "400\n"
          ]
        }
      ],
      "source": [
        "print(arrray.itemsize*arrray.size)"
      ]
    },
    {
      "cell_type": "code",
      "execution_count": null,
      "id": "0f530eb6",
      "metadata": {
        "id": "0f530eb6"
      },
      "outputs": [],
      "source": [
        "import time"
      ]
    },
    {
      "cell_type": "code",
      "execution_count": null,
      "id": "f139c251",
      "metadata": {
        "id": "f139c251",
        "outputId": "8982a33b-f8e3-4c66-ffb7-0e4725220915"
      },
      "outputs": [
        {
          "name": "stdout",
          "output_type": "stream",
          "text": [
            "29.29384207725525\n"
          ]
        }
      ],
      "source": [
        "#faster\n",
        "\n",
        "x = range(100000000)\n",
        "y = range(100000000,200000000)\n",
        "\n",
        "start_time = time.time()\n",
        "\n",
        "c = [(x+y) for x,y in zip(x,y)]\n",
        "\n",
        "end_time = time.time()\n",
        "\n",
        "print(end_time - start_time)\n"
      ]
    },
    {
      "cell_type": "code",
      "execution_count": null,
      "id": "91328463",
      "metadata": {
        "id": "91328463",
        "outputId": "7237de75-d710-4757-83fc-399de1525499"
      },
      "outputs": [
        {
          "name": "stdout",
          "output_type": "stream",
          "text": [
            "5.062307119369507\n"
          ]
        }
      ],
      "source": [
        "a = np.arange(100000000)\n",
        "b = np.arange(100000000,200000000)\n",
        "\n",
        "start_time = time.time()\n",
        "\n",
        "c = a+b\n",
        "\n",
        "print(time.time() - start_time)\n",
        "\n"
      ]
    },
    {
      "cell_type": "code",
      "execution_count": null,
      "id": "efc53acf",
      "metadata": {
        "id": "efc53acf",
        "outputId": "5ce68869-af6f-44ab-9f52-d968597f1e40"
      },
      "outputs": [
        {
          "data": {
            "text/plain": [
              "array([[ 0,  1,  2,  3],\n",
              "       [ 4,  5,  6,  7],\n",
              "       [ 8,  9, 10, 11],\n",
              "       [12, 13, 14, 15],\n",
              "       [16, 17, 18, 19],\n",
              "       [20, 21, 22, 23]])"
            ]
          },
          "execution_count": 64,
          "metadata": {},
          "output_type": "execute_result"
        }
      ],
      "source": [
        "a = np.arange(24).reshape(6,4)\n",
        "a"
      ]
    },
    {
      "cell_type": "code",
      "execution_count": null,
      "id": "8d9de690",
      "metadata": {
        "id": "8d9de690",
        "outputId": "78931eb2-9c44-4e4d-aeae-1b58a99f30bc"
      },
      "outputs": [
        {
          "data": {
            "text/plain": [
              "array([[ 0,  1],\n",
              "       [ 2,  3],\n",
              "       [ 4,  5],\n",
              "       [ 6,  7],\n",
              "       [ 8,  9],\n",
              "       [10, 11],\n",
              "       [12, 13],\n",
              "       [14, 15],\n",
              "       [16, 17],\n",
              "       [18, 19],\n",
              "       [20, 21],\n",
              "       [22, 23]])"
            ]
          },
          "execution_count": 66,
          "metadata": {},
          "output_type": "execute_result"
        }
      ],
      "source": [
        "a = np.arange(24).reshape(12,2)\n",
        "a"
      ]
    },
    {
      "cell_type": "code",
      "execution_count": null,
      "id": "773ecdeb",
      "metadata": {
        "id": "773ecdeb",
        "outputId": "6dc2b542-9802-43fe-fbdc-5878bf9b0b09"
      },
      "outputs": [
        {
          "data": {
            "text/plain": [
              "array([[ 0,  1,  2,  3],\n",
              "       [ 4,  5,  6,  7],\n",
              "       [ 8,  9, 10, 11],\n",
              "       [12, 13, 14, 15],\n",
              "       [16, 17, 18, 19],\n",
              "       [20, 21, 22, 23]])"
            ]
          },
          "execution_count": 67,
          "metadata": {},
          "output_type": "execute_result"
        }
      ],
      "source": [
        "a = np.arange(24).reshape(6,4)\n",
        "a"
      ]
    },
    {
      "cell_type": "code",
      "execution_count": null,
      "id": "49b64367",
      "metadata": {
        "id": "49b64367",
        "outputId": "119df7bb-1b4d-421a-a686-83c9ed9ce91b"
      },
      "outputs": [
        {
          "data": {
            "text/plain": [
              "array([ 8,  9, 10, 11])"
            ]
          },
          "execution_count": 68,
          "metadata": {},
          "output_type": "execute_result"
        }
      ],
      "source": [
        "a[2]"
      ]
    },
    {
      "cell_type": "code",
      "execution_count": null,
      "id": "9c65a999",
      "metadata": {
        "id": "9c65a999",
        "outputId": "c8bb6cd2-fd8e-4fb2-dd1e-fced47daa3ee"
      },
      "outputs": [
        {
          "data": {
            "text/plain": [
              "array([20, 21, 22, 23])"
            ]
          },
          "execution_count": 69,
          "metadata": {},
          "output_type": "execute_result"
        }
      ],
      "source": [
        "a[-1]"
      ]
    },
    {
      "cell_type": "code",
      "execution_count": null,
      "id": "c3392d70",
      "metadata": {
        "id": "c3392d70",
        "outputId": "31699efa-5565-4c61-b4fe-b46a6e79f546"
      },
      "outputs": [
        {
          "data": {
            "text/plain": [
              "array([ 2,  6, 10, 14, 18, 22])"
            ]
          },
          "execution_count": 70,
          "metadata": {},
          "output_type": "execute_result"
        }
      ],
      "source": [
        "a[:,2]"
      ]
    },
    {
      "cell_type": "code",
      "execution_count": null,
      "id": "8de00452",
      "metadata": {
        "id": "8de00452",
        "outputId": "995902dd-7fe8-4762-b93b-125fcbb82060"
      },
      "outputs": [
        {
          "data": {
            "text/plain": [
              "array([[ 2,  3],\n",
              "       [ 6,  7],\n",
              "       [10, 11],\n",
              "       [14, 15],\n",
              "       [18, 19],\n",
              "       [22, 23]])"
            ]
          },
          "execution_count": 73,
          "metadata": {},
          "output_type": "execute_result"
        }
      ],
      "source": [
        "a[:,2:4]"
      ]
    },
    {
      "cell_type": "code",
      "execution_count": null,
      "id": "192be1ce",
      "metadata": {
        "id": "192be1ce",
        "outputId": "7ccb89d8-d8ba-4483-b144-adacb1c2ff7c"
      },
      "outputs": [
        {
          "data": {
            "text/plain": [
              "array([[ 9, 10],\n",
              "       [13, 14]])"
            ]
          },
          "execution_count": 74,
          "metadata": {},
          "output_type": "execute_result"
        }
      ],
      "source": [
        "a[2:4,1:3]"
      ]
    },
    {
      "cell_type": "code",
      "execution_count": null,
      "id": "aa0f5f73",
      "metadata": {
        "id": "aa0f5f73",
        "outputId": "1cdedb90-438a-4a48-e9b4-6fb3aeec9ea1"
      },
      "outputs": [
        {
          "name": "stdout",
          "output_type": "stream",
          "text": [
            "[0 1 2 3]\n",
            "[4 5 6 7]\n",
            "[ 8  9 10 11]\n",
            "[12 13 14 15]\n",
            "[16 17 18 19]\n",
            "[20 21 22 23]\n"
          ]
        }
      ],
      "source": [
        "for i in a:\n",
        "    print(i)"
      ]
    },
    {
      "cell_type": "code",
      "execution_count": null,
      "id": "a453e651",
      "metadata": {
        "id": "a453e651",
        "outputId": "340e2c74-265a-4659-a075-9338571a575c"
      },
      "outputs": [
        {
          "name": "stdout",
          "output_type": "stream",
          "text": [
            "0\n",
            "1\n",
            "2\n",
            "3\n",
            "4\n",
            "5\n",
            "6\n",
            "7\n",
            "8\n",
            "9\n",
            "10\n",
            "11\n",
            "12\n",
            "13\n",
            "14\n",
            "15\n",
            "16\n",
            "17\n",
            "18\n",
            "19\n",
            "20\n",
            "21\n",
            "22\n",
            "23\n"
          ]
        }
      ],
      "source": [
        "for i in np.nditer(a):\n",
        "    print(i)"
      ]
    },
    {
      "cell_type": "code",
      "execution_count": null,
      "id": "b4e72103",
      "metadata": {
        "id": "b4e72103"
      },
      "outputs": [],
      "source": [
        "a1 = np.array([1,2,3])\n",
        "a2 = np.array([4,5,6])"
      ]
    },
    {
      "cell_type": "code",
      "execution_count": null,
      "id": "c09e799e",
      "metadata": {
        "id": "c09e799e",
        "outputId": "b5ab41b1-a922-47bb-ada1-bf97199ac982"
      },
      "outputs": [
        {
          "data": {
            "text/plain": [
              "array([-3, -3, -3])"
            ]
          },
          "execution_count": 83,
          "metadata": {},
          "output_type": "execute_result"
        }
      ],
      "source": [
        "a1-a2"
      ]
    },
    {
      "cell_type": "code",
      "execution_count": null,
      "id": "7c08b8b8",
      "metadata": {
        "id": "7c08b8b8",
        "outputId": "6204c4dd-47c3-4263-ff29-d9c2cad1a2d7"
      },
      "outputs": [
        {
          "data": {
            "text/plain": [
              "array([ 4, 10, 18])"
            ]
          },
          "execution_count": 85,
          "metadata": {},
          "output_type": "execute_result"
        }
      ],
      "source": [
        "a1*a2 #vector multiplication"
      ]
    },
    {
      "cell_type": "code",
      "execution_count": null,
      "id": "0db48b3c",
      "metadata": {
        "id": "0db48b3c",
        "outputId": "34f7dd37-8424-42d5-cbc5-43059a54b01d"
      },
      "outputs": [
        {
          "data": {
            "text/plain": [
              "array([2, 4, 6])"
            ]
          },
          "execution_count": 86,
          "metadata": {},
          "output_type": "execute_result"
        }
      ],
      "source": [
        "a1*2 #scaler mu;tiplication"
      ]
    },
    {
      "cell_type": "code",
      "execution_count": null,
      "id": "3d6a8bca",
      "metadata": {
        "id": "3d6a8bca",
        "outputId": "eace105d-e6eb-4e82-e0ec-a95cc9ad1c4d"
      },
      "outputs": [
        {
          "data": {
            "text/plain": [
              "array([ True,  True,  True])"
            ]
          },
          "execution_count": 87,
          "metadata": {},
          "output_type": "execute_result"
        }
      ],
      "source": [
        "a2>3"
      ]
    },
    {
      "cell_type": "code",
      "execution_count": null,
      "id": "ca4a75f8",
      "metadata": {
        "id": "ca4a75f8",
        "outputId": "0fcd81ef-0545-4c1a-d2ec-e6ba3bb98efc"
      },
      "outputs": [
        {
          "data": {
            "text/plain": [
              "array([False, False, False])"
            ]
          },
          "execution_count": 88,
          "metadata": {},
          "output_type": "execute_result"
        }
      ],
      "source": [
        "a1>3"
      ]
    },
    {
      "cell_type": "code",
      "execution_count": null,
      "id": "9fba6b7b",
      "metadata": {
        "id": "9fba6b7b",
        "outputId": "4ee24936-e25e-4846-cdb2-c1ff16b3f260"
      },
      "outputs": [
        {
          "data": {
            "text/plain": [
              "array([[0, 1, 2],\n",
              "       [3, 4, 5]])"
            ]
          },
          "execution_count": 90,
          "metadata": {},
          "output_type": "execute_result"
        }
      ],
      "source": [
        "a3 = np.arange(6).reshape(2,3)\n",
        "a4 = np.arange(6,12).reshape(3,2)\n",
        "\n",
        "a3"
      ]
    },
    {
      "cell_type": "code",
      "execution_count": null,
      "id": "0ed0640c",
      "metadata": {
        "id": "0ed0640c",
        "outputId": "42572ecf-925f-4ee9-da4e-997964fb7f2f"
      },
      "outputs": [
        {
          "data": {
            "text/plain": [
              "array([[ 6,  7],\n",
              "       [ 8,  9],\n",
              "       [10, 11]])"
            ]
          },
          "execution_count": 92,
          "metadata": {},
          "output_type": "execute_result"
        }
      ],
      "source": [
        "a4"
      ]
    },
    {
      "cell_type": "code",
      "execution_count": null,
      "id": "8d12502a",
      "metadata": {
        "id": "8d12502a",
        "outputId": "5adce061-524f-4d6e-c9c8-c08075cc41d8"
      },
      "outputs": [
        {
          "data": {
            "text/plain": [
              "array([[ 28,  31],\n",
              "       [100, 112]])"
            ]
          },
          "execution_count": 93,
          "metadata": {},
          "output_type": "execute_result"
        }
      ],
      "source": [
        "a3.dot(a4)"
      ]
    },
    {
      "cell_type": "code",
      "execution_count": null,
      "id": "e01411b3",
      "metadata": {
        "id": "e01411b3",
        "outputId": "e7f46883-52dc-4bd9-9baa-d1a0c55f43aa"
      },
      "outputs": [
        {
          "data": {
            "text/plain": [
              "0"
            ]
          },
          "execution_count": 96,
          "metadata": {},
          "output_type": "execute_result"
        }
      ],
      "source": [
        "a3.min()\n"
      ]
    },
    {
      "cell_type": "code",
      "execution_count": null,
      "id": "d487f3d5",
      "metadata": {
        "id": "d487f3d5",
        "outputId": "aa30bf41-5823-4273-8543-b70f0fbe388c"
      },
      "outputs": [
        {
          "data": {
            "text/plain": [
              "5"
            ]
          },
          "execution_count": 97,
          "metadata": {},
          "output_type": "execute_result"
        }
      ],
      "source": [
        "a3.max()"
      ]
    },
    {
      "cell_type": "code",
      "execution_count": null,
      "id": "ef1536f3",
      "metadata": {
        "id": "ef1536f3",
        "outputId": "222d0d99-21e6-4541-a213-fcabc78ba723"
      },
      "outputs": [
        {
          "data": {
            "text/plain": [
              "6"
            ]
          },
          "execution_count": 98,
          "metadata": {},
          "output_type": "execute_result"
        }
      ],
      "source": [
        "a4.min()"
      ]
    },
    {
      "cell_type": "code",
      "execution_count": null,
      "id": "38996c76",
      "metadata": {
        "id": "38996c76",
        "outputId": "5bfea379-6afd-45a1-eebe-6a963052b2b2"
      },
      "outputs": [
        {
          "data": {
            "text/plain": [
              "11"
            ]
          },
          "execution_count": 99,
          "metadata": {},
          "output_type": "execute_result"
        }
      ],
      "source": [
        "a4.max()"
      ]
    },
    {
      "cell_type": "code",
      "execution_count": null,
      "id": "f6624036",
      "metadata": {
        "id": "f6624036",
        "outputId": "27b59a58-2553-4373-cf19-2ab9fd6c7f30"
      },
      "outputs": [
        {
          "data": {
            "text/plain": [
              "array([[ 6,  7],\n",
              "       [ 8,  9],\n",
              "       [10, 11]])"
            ]
          },
          "execution_count": 100,
          "metadata": {},
          "output_type": "execute_result"
        }
      ],
      "source": [
        "a4"
      ]
    },
    {
      "cell_type": "code",
      "execution_count": null,
      "id": "7f6d9d49",
      "metadata": {
        "id": "7f6d9d49",
        "outputId": "7c2d135c-420f-46fd-e770-32cd25cc66b9"
      },
      "outputs": [
        {
          "data": {
            "text/plain": [
              "array([6, 7])"
            ]
          },
          "execution_count": 101,
          "metadata": {},
          "output_type": "execute_result"
        }
      ],
      "source": [
        "a4.min(axis=0)#column wise minimum elements"
      ]
    },
    {
      "cell_type": "code",
      "execution_count": null,
      "id": "83558ee1",
      "metadata": {
        "id": "83558ee1",
        "outputId": "e45c1fa4-0c57-44c2-e65c-6a298ef85d2e"
      },
      "outputs": [
        {
          "data": {
            "text/plain": [
              "array([ 6,  8, 10])"
            ]
          },
          "execution_count": 102,
          "metadata": {},
          "output_type": "execute_result"
        }
      ],
      "source": [
        "a4.min(axis = 1) #row wise minimum elements"
      ]
    },
    {
      "cell_type": "code",
      "execution_count": null,
      "id": "b7bc0bc5",
      "metadata": {
        "id": "b7bc0bc5",
        "outputId": "c09f0154-e848-4672-dfd2-0d330452ddb8"
      },
      "outputs": [
        {
          "data": {
            "text/plain": [
              "51"
            ]
          },
          "execution_count": 104,
          "metadata": {},
          "output_type": "execute_result"
        }
      ],
      "source": [
        "a4.sum()"
      ]
    },
    {
      "cell_type": "code",
      "execution_count": null,
      "id": "c5f1df91",
      "metadata": {
        "id": "c5f1df91",
        "outputId": "b61d9105-5622-41ae-bcf5-6bdf3dc310ed"
      },
      "outputs": [
        {
          "data": {
            "text/plain": [
              "array([24, 27])"
            ]
          },
          "execution_count": 105,
          "metadata": {},
          "output_type": "execute_result"
        }
      ],
      "source": [
        "a4.sum(axis=0)"
      ]
    },
    {
      "cell_type": "code",
      "execution_count": null,
      "id": "add89174",
      "metadata": {
        "id": "add89174",
        "outputId": "e0014ff1-514b-4049-e752-f300242d0287"
      },
      "outputs": [
        {
          "data": {
            "text/plain": [
              "array([13, 17, 21])"
            ]
          },
          "execution_count": 106,
          "metadata": {},
          "output_type": "execute_result"
        }
      ],
      "source": [
        "a4.sum(axis=1)"
      ]
    },
    {
      "cell_type": "code",
      "execution_count": null,
      "id": "290ed157",
      "metadata": {
        "id": "290ed157",
        "outputId": "e13d2221-1e52-4563-e5db-8c4c03d8e2f3"
      },
      "outputs": [
        {
          "data": {
            "text/plain": [
              "8.5"
            ]
          },
          "execution_count": 107,
          "metadata": {},
          "output_type": "execute_result"
        }
      ],
      "source": [
        "a4.mean()"
      ]
    },
    {
      "cell_type": "code",
      "execution_count": null,
      "id": "9a5d8f09",
      "metadata": {
        "id": "9a5d8f09",
        "outputId": "f316b20d-1246-4d6e-dfbc-801a1fc624c1"
      },
      "outputs": [
        {
          "data": {
            "text/plain": [
              "array([8., 9.])"
            ]
          },
          "execution_count": 108,
          "metadata": {},
          "output_type": "execute_result"
        }
      ],
      "source": [
        "a4.mean(axis=0)"
      ]
    },
    {
      "cell_type": "code",
      "execution_count": null,
      "id": "1e7f688f",
      "metadata": {
        "id": "1e7f688f",
        "outputId": "6c73faf6-6c49-482e-d3d4-64cf9edb26a4"
      },
      "outputs": [
        {
          "data": {
            "text/plain": [
              "array([ 6.5,  8.5, 10.5])"
            ]
          },
          "execution_count": 109,
          "metadata": {},
          "output_type": "execute_result"
        }
      ],
      "source": [
        "a4.mean(axis=1)"
      ]
    },
    {
      "cell_type": "code",
      "execution_count": null,
      "id": "54c419f6",
      "metadata": {
        "id": "54c419f6",
        "outputId": "eeb4209d-b121-4e49-f6b1-8f79bc05c8ee"
      },
      "outputs": [
        {
          "data": {
            "text/plain": [
              "8.5"
            ]
          },
          "execution_count": 113,
          "metadata": {},
          "output_type": "execute_result"
        }
      ],
      "source": [
        "np.median(a4)"
      ]
    },
    {
      "cell_type": "code",
      "execution_count": null,
      "id": "4b22e3cf",
      "metadata": {
        "id": "4b22e3cf",
        "outputId": "ca0eff81-534a-4da6-be0f-bdafe0a59e15"
      },
      "outputs": [
        {
          "data": {
            "text/plain": [
              "1.707825127659933"
            ]
          },
          "execution_count": 111,
          "metadata": {},
          "output_type": "execute_result"
        }
      ],
      "source": [
        "a4.std()#standard deviation"
      ]
    },
    {
      "cell_type": "code",
      "execution_count": null,
      "id": "db32a312",
      "metadata": {
        "id": "db32a312",
        "outputId": "ab7fac0b-b128-4884-c43b-d70a48a89176"
      },
      "outputs": [
        {
          "data": {
            "text/plain": [
              "array([[-0.2794155 ,  0.6569866 ],\n",
              "       [ 0.98935825,  0.41211849],\n",
              "       [-0.54402111, -0.99999021]])"
            ]
          },
          "execution_count": 112,
          "metadata": {},
          "output_type": "execute_result"
        }
      ],
      "source": [
        "np.sin(a4)"
      ]
    },
    {
      "cell_type": "code",
      "execution_count": null,
      "id": "bac5be62",
      "metadata": {
        "id": "bac5be62",
        "outputId": "a492891b-d4ec-441e-beda-c86cd8ef17d8"
      },
      "outputs": [
        {
          "data": {
            "text/plain": [
              "array([[  403.42879349,  1096.63315843],\n",
              "       [ 2980.95798704,  8103.08392758],\n",
              "       [22026.46579481, 59874.1417152 ]])"
            ]
          },
          "execution_count": 114,
          "metadata": {},
          "output_type": "execute_result"
        }
      ],
      "source": [
        "np.exp(a4)"
      ]
    },
    {
      "cell_type": "markdown",
      "id": "72d9eadc",
      "metadata": {
        "id": "72d9eadc"
      },
      "source": [
        "# reshaping numpy arrays"
      ]
    },
    {
      "cell_type": "code",
      "execution_count": null,
      "id": "46feda69",
      "metadata": {
        "id": "46feda69",
        "outputId": "0a25323c-f446-4699-bc99-a4ceb75dc609"
      },
      "outputs": [
        {
          "data": {
            "text/plain": [
              "array([[ 6,  7],\n",
              "       [ 8,  9],\n",
              "       [10, 11]])"
            ]
          },
          "execution_count": 115,
          "metadata": {},
          "output_type": "execute_result"
        }
      ],
      "source": [
        "a4"
      ]
    },
    {
      "cell_type": "code",
      "execution_count": null,
      "id": "3b0d44db",
      "metadata": {
        "id": "3b0d44db",
        "outputId": "17fe88b8-10dc-4714-e44a-49729849a7bd"
      },
      "outputs": [
        {
          "data": {
            "text/plain": [
              "2"
            ]
          },
          "execution_count": 116,
          "metadata": {},
          "output_type": "execute_result"
        }
      ],
      "source": [
        "a4.ndim"
      ]
    },
    {
      "cell_type": "code",
      "execution_count": null,
      "id": "afcee1f5",
      "metadata": {
        "id": "afcee1f5",
        "outputId": "ad4e2487-43c4-4799-a31e-3c2ed7e56ba4"
      },
      "outputs": [
        {
          "data": {
            "text/plain": [
              "array([ 6,  7,  8,  9, 10, 11])"
            ]
          },
          "execution_count": 118,
          "metadata": {},
          "output_type": "execute_result"
        }
      ],
      "source": [
        "a4.ravel() #converts higher dimensional arrays to 1D"
      ]
    },
    {
      "cell_type": "code",
      "execution_count": null,
      "id": "e4ddcf40",
      "metadata": {
        "id": "e4ddcf40",
        "outputId": "b2b95f5e-d1fe-4bd5-a92f-66ce4b2b6188"
      },
      "outputs": [
        {
          "data": {
            "text/plain": [
              "array([[ 6,  8, 10],\n",
              "       [ 7,  9, 11]])"
            ]
          },
          "execution_count": 119,
          "metadata": {},
          "output_type": "execute_result"
        }
      ],
      "source": [
        "a4.transpose()"
      ]
    },
    {
      "cell_type": "code",
      "execution_count": null,
      "id": "1c0207b9",
      "metadata": {
        "id": "1c0207b9",
        "outputId": "39917654-5d52-4398-e665-f4a3692eae3f"
      },
      "outputs": [
        {
          "data": {
            "text/plain": [
              "array([[0, 1, 2],\n",
              "       [3, 4, 5]])"
            ]
          },
          "execution_count": 120,
          "metadata": {},
          "output_type": "execute_result"
        }
      ],
      "source": [
        "a3"
      ]
    },
    {
      "cell_type": "code",
      "execution_count": null,
      "id": "9ff69012",
      "metadata": {
        "id": "9ff69012"
      },
      "outputs": [],
      "source": [
        "a5 = np.arange(12,18).reshape(2,3)"
      ]
    },
    {
      "cell_type": "code",
      "execution_count": null,
      "id": "0b3a269e",
      "metadata": {
        "id": "0b3a269e",
        "outputId": "787c18a7-fdd3-4569-fece-e285752da057"
      },
      "outputs": [
        {
          "data": {
            "text/plain": [
              "array([[12, 13, 14],\n",
              "       [15, 16, 17]])"
            ]
          },
          "execution_count": 126,
          "metadata": {},
          "output_type": "execute_result"
        }
      ],
      "source": [
        "a5"
      ]
    },
    {
      "cell_type": "code",
      "execution_count": null,
      "id": "6ba71e2f",
      "metadata": {
        "id": "6ba71e2f",
        "outputId": "03874ea1-d29e-446f-db17-0c75c6b578c4"
      },
      "outputs": [
        {
          "data": {
            "text/plain": [
              "array([[ 0,  1,  2, 12, 13, 14],\n",
              "       [ 3,  4,  5, 15, 16, 17]])"
            ]
          },
          "execution_count": 128,
          "metadata": {},
          "output_type": "execute_result"
        }
      ],
      "source": [
        "np.hstack((a3,a5)) #combining two same shaped arrays\n",
        "#h = horizontal"
      ]
    },
    {
      "cell_type": "code",
      "execution_count": null,
      "id": "b5fbe6d0",
      "metadata": {
        "id": "b5fbe6d0",
        "outputId": "f0d6d5a1-512d-4286-b59d-f3bebe2d80d8"
      },
      "outputs": [
        {
          "data": {
            "text/plain": [
              "array([[ 0,  1,  2],\n",
              "       [ 3,  4,  5],\n",
              "       [12, 13, 14],\n",
              "       [15, 16, 17]])"
            ]
          },
          "execution_count": 129,
          "metadata": {},
          "output_type": "execute_result"
        }
      ],
      "source": [
        "np.vstack((a3,a5))"
      ]
    },
    {
      "cell_type": "code",
      "execution_count": null,
      "id": "036db84b",
      "metadata": {
        "id": "036db84b",
        "outputId": "e9264a86-77aa-49b3-c751-b4608079f982"
      },
      "outputs": [
        {
          "data": {
            "text/plain": [
              "array([[0, 1, 2],\n",
              "       [3, 4, 5]])"
            ]
          },
          "execution_count": 130,
          "metadata": {},
          "output_type": "execute_result"
        }
      ],
      "source": [
        "a3"
      ]
    },
    {
      "cell_type": "code",
      "execution_count": null,
      "id": "a770d906",
      "metadata": {
        "id": "a770d906",
        "outputId": "60af6518-e2b8-441b-ea8f-72418d49d062"
      },
      "outputs": [
        {
          "data": {
            "text/plain": [
              "[array([[0, 1, 2]]), array([[3, 4, 5]])]"
            ]
          },
          "execution_count": 131,
          "metadata": {},
          "output_type": "execute_result"
        }
      ],
      "source": [
        "np.vsplit(a3,2)"
      ]
    },
    {
      "cell_type": "code",
      "execution_count": null,
      "id": "06ad83e0",
      "metadata": {
        "id": "06ad83e0"
      },
      "outputs": [],
      "source": [
        "#fancy indexing\n",
        "#if you want to retrieve discontinous rows or columns"
      ]
    },
    {
      "cell_type": "code",
      "execution_count": null,
      "id": "0e998022",
      "metadata": {
        "id": "0e998022",
        "outputId": "29949507-058c-47b9-fef2-360949372e16"
      },
      "outputs": [
        {
          "data": {
            "text/plain": [
              "array([[ 0,  1,  2,  3],\n",
              "       [ 4,  5,  6,  7],\n",
              "       [ 8,  9, 10, 11],\n",
              "       [12, 13, 14, 15],\n",
              "       [16, 17, 18, 19],\n",
              "       [20, 21, 22, 23]])"
            ]
          },
          "execution_count": 133,
          "metadata": {},
          "output_type": "execute_result"
        }
      ],
      "source": [
        "a6 = np.arange(24).reshape(6,4)\n",
        "a6"
      ]
    },
    {
      "cell_type": "code",
      "execution_count": null,
      "id": "91188594",
      "metadata": {
        "id": "91188594",
        "outputId": "a677952b-fad1-4982-a5fe-9812faeec09e"
      },
      "outputs": [
        {
          "data": {
            "text/plain": [
              "array([[ 0,  1,  2,  3],\n",
              "       [ 8,  9, 10, 11],\n",
              "       [16, 17, 18, 19]])"
            ]
          },
          "execution_count": 134,
          "metadata": {},
          "output_type": "execute_result"
        }
      ],
      "source": [
        "a6[[0,2,4]]"
      ]
    },
    {
      "cell_type": "code",
      "execution_count": null,
      "id": "d845af0e",
      "metadata": {
        "id": "d845af0e",
        "outputId": "8c084e3a-18c3-4879-9e1d-257996a40891"
      },
      "outputs": [
        {
          "data": {
            "text/plain": [
              "array([[73, 16, 63, 62, 31],\n",
              "       [48, 93, 21, 61, 82],\n",
              "       [59, 69, 90, 13, 49],\n",
              "       [57, 18, 80, 67, 93]])"
            ]
          },
          "execution_count": 135,
          "metadata": {},
          "output_type": "execute_result"
        }
      ],
      "source": [
        "arr = np.random.randint(low = 1, high = 100,size = 20).reshape(4,5)\n",
        "arr"
      ]
    },
    {
      "cell_type": "code",
      "execution_count": null,
      "id": "832b35f8",
      "metadata": {
        "id": "832b35f8",
        "outputId": "89700429-5512-4a87-981f-ca434502858a"
      },
      "outputs": [
        {
          "data": {
            "text/plain": [
              "array([[ True, False,  True,  True, False],\n",
              "       [False,  True, False,  True,  True],\n",
              "       [ True,  True,  True, False, False],\n",
              "       [ True, False,  True,  True,  True]])"
            ]
          },
          "execution_count": 136,
          "metadata": {},
          "output_type": "execute_result"
        }
      ],
      "source": [
        "arr>50"
      ]
    },
    {
      "cell_type": "code",
      "execution_count": null,
      "id": "99716c89",
      "metadata": {
        "id": "99716c89",
        "outputId": "06c28e79-26fc-4aa5-c265-fe340cb81ee2"
      },
      "outputs": [
        {
          "data": {
            "text/plain": [
              "array([73, 63, 62, 93, 61, 82, 59, 69, 90, 57, 80, 67, 93])"
            ]
          },
          "execution_count": 137,
          "metadata": {},
          "output_type": "execute_result"
        }
      ],
      "source": [
        "#indexing using boolean arrays or filtering\n",
        "arr[arr>50]"
      ]
    },
    {
      "cell_type": "code",
      "execution_count": null,
      "id": "21dbcc2a",
      "metadata": {
        "id": "21dbcc2a",
        "outputId": "c360c6ec-c29b-4d59-caff-97612b3cd30b"
      },
      "outputs": [
        {
          "data": {
            "text/plain": [
              "array([73, 63, 93, 61, 59, 69, 57, 67, 93])"
            ]
          },
          "execution_count": 138,
          "metadata": {},
          "output_type": "execute_result"
        }
      ],
      "source": [
        "arr[(arr>50)&(arr%2!=0)]"
      ]
    },
    {
      "cell_type": "code",
      "execution_count": null,
      "id": "aa332099",
      "metadata": {
        "id": "aa332099"
      },
      "outputs": [],
      "source": [
        "arr[(arr>50)&(arr%2!=0)] = 0\n",
        "#making odd numbers which are greater than 50 to zero"
      ]
    },
    {
      "cell_type": "code",
      "execution_count": null,
      "id": "bc8ddeb2",
      "metadata": {
        "id": "bc8ddeb2",
        "outputId": "21ec4a3f-fb95-4b04-c0b2-1b5f60acfc8e"
      },
      "outputs": [
        {
          "data": {
            "text/plain": [
              "array([[ 0, 16,  0, 62, 31],\n",
              "       [48,  0, 21,  0, 82],\n",
              "       [ 0,  0, 90, 13, 49],\n",
              "       [ 0, 18, 80,  0,  0]])"
            ]
          },
          "execution_count": 140,
          "metadata": {},
          "output_type": "execute_result"
        }
      ],
      "source": [
        "arr"
      ]
    },
    {
      "cell_type": "code",
      "execution_count": null,
      "id": "c43dbf57",
      "metadata": {
        "id": "c43dbf57"
      },
      "outputs": [],
      "source": [
        "x = np.linspace(-40,40,100)"
      ]
    },
    {
      "cell_type": "code",
      "execution_count": null,
      "id": "16644cb1",
      "metadata": {
        "id": "16644cb1",
        "outputId": "f2d0c58a-2de7-4c48-e31d-4da9945d1dc3"
      },
      "outputs": [
        {
          "data": {
            "text/plain": [
              "array([-40.        , -39.19191919, -38.38383838, -37.57575758,\n",
              "       -36.76767677, -35.95959596, -35.15151515, -34.34343434,\n",
              "       -33.53535354, -32.72727273, -31.91919192, -31.11111111,\n",
              "       -30.3030303 , -29.49494949, -28.68686869, -27.87878788,\n",
              "       -27.07070707, -26.26262626, -25.45454545, -24.64646465,\n",
              "       -23.83838384, -23.03030303, -22.22222222, -21.41414141,\n",
              "       -20.60606061, -19.7979798 , -18.98989899, -18.18181818,\n",
              "       -17.37373737, -16.56565657, -15.75757576, -14.94949495,\n",
              "       -14.14141414, -13.33333333, -12.52525253, -11.71717172,\n",
              "       -10.90909091, -10.1010101 ,  -9.29292929,  -8.48484848,\n",
              "        -7.67676768,  -6.86868687,  -6.06060606,  -5.25252525,\n",
              "        -4.44444444,  -3.63636364,  -2.82828283,  -2.02020202,\n",
              "        -1.21212121,  -0.4040404 ,   0.4040404 ,   1.21212121,\n",
              "         2.02020202,   2.82828283,   3.63636364,   4.44444444,\n",
              "         5.25252525,   6.06060606,   6.86868687,   7.67676768,\n",
              "         8.48484848,   9.29292929,  10.1010101 ,  10.90909091,\n",
              "        11.71717172,  12.52525253,  13.33333333,  14.14141414,\n",
              "        14.94949495,  15.75757576,  16.56565657,  17.37373737,\n",
              "        18.18181818,  18.98989899,  19.7979798 ,  20.60606061,\n",
              "        21.41414141,  22.22222222,  23.03030303,  23.83838384,\n",
              "        24.64646465,  25.45454545,  26.26262626,  27.07070707,\n",
              "        27.87878788,  28.68686869,  29.49494949,  30.3030303 ,\n",
              "        31.11111111,  31.91919192,  32.72727273,  33.53535354,\n",
              "        34.34343434,  35.15151515,  35.95959596,  36.76767677,\n",
              "        37.57575758,  38.38383838,  39.19191919,  40.        ])"
            ]
          },
          "execution_count": 142,
          "metadata": {},
          "output_type": "execute_result"
        }
      ],
      "source": [
        "x"
      ]
    },
    {
      "cell_type": "code",
      "execution_count": null,
      "id": "01639930",
      "metadata": {
        "id": "01639930",
        "outputId": "13f3b75a-4832-4f5f-a628-680e02f5780c"
      },
      "outputs": [
        {
          "data": {
            "text/plain": [
              "100"
            ]
          },
          "execution_count": 143,
          "metadata": {},
          "output_type": "execute_result"
        }
      ],
      "source": [
        "x.size"
      ]
    },
    {
      "cell_type": "code",
      "execution_count": null,
      "id": "cc8092c6",
      "metadata": {
        "id": "cc8092c6"
      },
      "outputs": [],
      "source": [
        "y = np.sin(x)"
      ]
    },
    {
      "cell_type": "code",
      "execution_count": null,
      "id": "8ffdd0bd",
      "metadata": {
        "id": "8ffdd0bd",
        "outputId": "4a900534-c087-4401-c3bc-3725a559bb79"
      },
      "outputs": [
        {
          "data": {
            "text/plain": [
              "array([-0.74511316, -0.9969604 , -0.63246122,  0.12304167,  0.80247705,\n",
              "        0.98580059,  0.55967698, -0.21245326, -0.85323945, -0.96653119,\n",
              "       -0.48228862,  0.30011711,  0.89698277,  0.93931073,  0.40093277,\n",
              "       -0.38531209, -0.93334716, -0.90436313, -0.31627868,  0.46733734,\n",
              "        0.96203346,  0.86197589,  0.22902277, -0.54551809, -0.9828057 ,\n",
              "       -0.81249769, -0.13988282,  0.61921119,  0.995493  ,  0.75633557,\n",
              "        0.04959214, -0.68781042, -0.99999098, -0.69395153,  0.0411065 ,\n",
              "        0.75075145,  0.99626264,  0.62585878, -0.13146699, -0.8075165 ,\n",
              "       -0.98433866, -0.55261747,  0.22074597,  0.85763861,  0.96431712,\n",
              "        0.47483011, -0.30820902, -0.90070545, -0.93636273, -0.39313661,\n",
              "        0.39313661,  0.93636273,  0.90070545,  0.30820902, -0.47483011,\n",
              "       -0.96431712, -0.85763861, -0.22074597,  0.55261747,  0.98433866,\n",
              "        0.8075165 ,  0.13146699, -0.62585878, -0.99626264, -0.75075145,\n",
              "       -0.0411065 ,  0.69395153,  0.99999098,  0.68781042, -0.04959214,\n",
              "       -0.75633557, -0.995493  , -0.61921119,  0.13988282,  0.81249769,\n",
              "        0.9828057 ,  0.54551809, -0.22902277, -0.86197589, -0.96203346,\n",
              "       -0.46733734,  0.31627868,  0.90436313,  0.93334716,  0.38531209,\n",
              "       -0.40093277, -0.93931073, -0.89698277, -0.30011711,  0.48228862,\n",
              "        0.96653119,  0.85323945,  0.21245326, -0.55967698, -0.98580059,\n",
              "       -0.80247705, -0.12304167,  0.63246122,  0.9969604 ,  0.74511316])"
            ]
          },
          "execution_count": 145,
          "metadata": {},
          "output_type": "execute_result"
        }
      ],
      "source": [
        "y"
      ]
    },
    {
      "cell_type": "code",
      "execution_count": null,
      "id": "b2f2e3d8",
      "metadata": {
        "id": "b2f2e3d8",
        "outputId": "3d1169b2-174d-4f8e-9d4e-ef1a301ae6f8"
      },
      "outputs": [
        {
          "data": {
            "text/plain": [
              "100"
            ]
          },
          "execution_count": 146,
          "metadata": {},
          "output_type": "execute_result"
        }
      ],
      "source": [
        "y.size"
      ]
    },
    {
      "cell_type": "code",
      "execution_count": null,
      "id": "8d3ca2b4",
      "metadata": {
        "id": "8d3ca2b4"
      },
      "outputs": [],
      "source": [
        "import matplotlib.pyplot as plt\n",
        "%matplotlib inline \n",
        "#to show the output just like getch in c"
      ]
    },
    {
      "cell_type": "code",
      "execution_count": null,
      "id": "58c0480e",
      "metadata": {
        "id": "58c0480e",
        "outputId": "cf51ea98-f920-49c8-c436-f705748b903e"
      },
      "outputs": [
        {
          "data": {
            "text/plain": [
              "[<matplotlib.lines.Line2D at 0x2894c036490>]"
            ]
          },
          "execution_count": 149,
          "metadata": {},
          "output_type": "execute_result"
        },
        {
          "data": {
            "image/png": "[encoded data removed]",
            "text/plain": [
              "<Figure size 640x480 with 1 Axes>"
            ]
          },
          "metadata": {},
          "output_type": "display_data"
        }
      ],
      "source": [
        "plt.plot(x,y)"
      ]
    },
    {
      "cell_type": "code",
      "execution_count": null,
      "id": "7c14b734",
      "metadata": {
        "id": "7c14b734"
      },
      "outputs": [],
      "source": [
        "y = x*x+ 2*x+6"
      ]
    },
    {
      "cell_type": "code",
      "execution_count": null,
      "id": "ddf510f0",
      "metadata": {
        "id": "ddf510f0",
        "outputId": "f3713ce4-e3fe-4592-ba2b-ba60f26a0f59"
      },
      "outputs": [
        {
          "data": {
            "text/plain": [
              "[<matplotlib.lines.Line2D at 0x288c28a9fd0>]"
            ]
          },
          "execution_count": 151,
          "metadata": {},
          "output_type": "execute_result"
        },
        {
          "data": {
            "image/png": "[encoded data removed]",
            "text/plain": [
              "<Figure size 640x480 with 1 Axes>"
            ]
          },
          "metadata": {},
          "output_type": "display_data"
        }
      ],
      "source": [
        "plt.plot(x,y)"
      ]
    },
    {
      "cell_type": "markdown",
      "id": "8344c1ec",
      "metadata": {
        "id": "8344c1ec"
      },
      "source": [
        "# Broadcasting"
      ]
    },
    {
      "cell_type": "code",
      "execution_count": null,
      "id": "3ccfb67d",
      "metadata": {
        "id": "3ccfb67d",
        "outputId": "594d1ccc-fab6-42cb-af29-f23587061760"
      },
      "outputs": [
        {
          "name": "stdout",
          "output_type": "stream",
          "text": [
            "[[0 1 2 3]\n",
            " [4 5 6 7]]\n",
            "\n",
            "[[ 8  9 10 11]\n",
            " [12 13 14 15]]\n"
          ]
        }
      ],
      "source": [
        "#senario1\n",
        "\n",
        "a1 = np.arange(8).reshape(2,4)\n",
        "a2 = np.arange(8,16).reshape(2,4)\n",
        "\n",
        "print(a1)\n",
        "print()\n",
        "print(a2)"
      ]
    },
    {
      "cell_type": "code",
      "execution_count": null,
      "id": "1d3559d6",
      "metadata": {
        "id": "1d3559d6",
        "outputId": "912ef125-b683-4e82-8748-370c169604d9"
      },
      "outputs": [
        {
          "data": {
            "text/plain": [
              "array([[ 8, 10, 12, 14],\n",
              "       [16, 18, 20, 22]])"
            ]
          },
          "execution_count": 155,
          "metadata": {},
          "output_type": "execute_result"
        }
      ],
      "source": [
        "a1+a2"
      ]
    },
    {
      "cell_type": "code",
      "execution_count": null,
      "id": "ce0afa21",
      "metadata": {
        "id": "ce0afa21",
        "outputId": "b897577b-3dc9-46a4-aec5-0f2510bed77e"
      },
      "outputs": [
        {
          "name": "stdout",
          "output_type": "stream",
          "text": [
            "[[0 1 2]\n",
            " [3 4 5]\n",
            " [6 7 8]]\n",
            "\n",
            "[[0 1 2]]\n"
          ]
        }
      ],
      "source": [
        "#senario 2\n",
        "\n",
        "\n",
        "a3 = np.arange(9).reshape(3,3)\n",
        "a4 = np.arange(3).reshape(1,3)\n",
        "\n",
        "\n",
        "print(a3)\n",
        "print()\n",
        "\n",
        "print(a4)"
      ]
    },
    {
      "cell_type": "code",
      "execution_count": null,
      "id": "fc5af8c7",
      "metadata": {
        "id": "fc5af8c7",
        "outputId": "32591832-1bc0-4a4a-af52-0176ad581d1a"
      },
      "outputs": [
        {
          "data": {
            "text/plain": [
              "array([[ 0,  2,  4],\n",
              "       [ 3,  5,  7],\n",
              "       [ 6,  8, 10]])"
            ]
          },
          "execution_count": 158,
          "metadata": {},
          "output_type": "execute_result"
        }
      ],
      "source": [
        "a3+a4"
      ]
    },
    {
      "cell_type": "code",
      "execution_count": null,
      "id": "631f79fb",
      "metadata": {
        "id": "631f79fb",
        "outputId": "a3e56656-ea06-4099-880a-00437c44a833"
      },
      "outputs": [
        {
          "name": "stdout",
          "output_type": "stream",
          "text": [
            "[[0 1 2]]\n",
            "\n",
            "[[ 0  1  2]\n",
            " [ 3  4  5]\n",
            " [ 6  7  8]\n",
            " [ 9 10 11]]\n"
          ]
        }
      ],
      "source": [
        "a5 = np.arange(3).reshape(1,3)\n",
        "a6 = np.arange(12).reshape(4,3)\n",
        "\n",
        "print(a5)\n",
        "print()\n",
        "print(a6)"
      ]
    },
    {
      "cell_type": "code",
      "execution_count": null,
      "id": "7f732d3e",
      "metadata": {
        "id": "7f732d3e",
        "outputId": "e22ea0ab-5907-4e0a-a697-b55433a443d0"
      },
      "outputs": [
        {
          "data": {
            "text/plain": [
              "array([[ 0,  2,  4],\n",
              "       [ 3,  5,  7],\n",
              "       [ 6,  8, 10],\n",
              "       [ 9, 11, 13]])"
            ]
          },
          "execution_count": 160,
          "metadata": {},
          "output_type": "execute_result"
        }
      ],
      "source": [
        "a5+a6"
      ]
    },
    {
      "cell_type": "code",
      "execution_count": null,
      "id": "2d4b0325",
      "metadata": {
        "id": "2d4b0325",
        "outputId": "5a51a34b-5793-4af9-c3fa-0329b2f21a67"
      },
      "outputs": [
        {
          "name": "stdout",
          "output_type": "stream",
          "text": [
            "[[0 1 2]]\n",
            "\n",
            "[[ 0  1  2  3]\n",
            " [ 4  5  6  7]\n",
            " [ 8  9 10 11]\n",
            " [12 13 14 15]]\n"
          ]
        }
      ],
      "source": [
        "a7 = np.arange(3).reshape(1,3)\n",
        "a8 = np.arange(16).reshape(4,4)\n",
        "\n",
        "\n",
        "print(a7)\n",
        "print()\n",
        "print(a8)"
      ]
    },
    {
      "cell_type": "code",
      "execution_count": null,
      "id": "8befd034",
      "metadata": {
        "id": "8befd034",
        "outputId": "d8e56fe3-defe-418b-e008-57d3dda005dd"
      },
      "outputs": [
        {
          "ename": "ValueError",
          "evalue": "operands could not be broadcast together with shapes (1,3) (4,4) ",
          "output_type": "error",
          "traceback": [
            "\u001b[1;31m---------------------------------------------------------------------------\u001b[0m",
            "\u001b[1;31mValueError\u001b[0m                                Traceback (most recent call last)",
            "Cell \u001b[1;32mIn[162], line 1\u001b[0m\n\u001b[1;32m----> 1\u001b[0m \u001b[43ma7\u001b[49m\u001b[38;5;241;43m+\u001b[39;49m\u001b[43ma8\u001b[49m\n",
            "\u001b[1;31mValueError\u001b[0m: operands could not be broadcast together with shapes (1,3) (4,4) "
          ]
        }
      ],
      "source": [
        "a7+a8"
      ]
    },
    {
      "cell_type": "code",
      "execution_count": null,
      "id": "5cedd623",
      "metadata": {
        "id": "5cedd623",
        "outputId": "13e72e54-b166-46a3-cbfb-eee1caaba3d1"
      },
      "outputs": [
        {
          "name": "stdout",
          "output_type": "stream",
          "text": [
            "[[0 1 2]]\n",
            "\n",
            "[[0]\n",
            " [1]\n",
            " [2]]\n"
          ]
        }
      ],
      "source": [
        "a9 = np.arange(3).reshape(1,3)\n",
        "a10 = np.arange(3).reshape(3,1)\n",
        "\n",
        "print(a9)\n",
        "print()\n",
        "print(a10)"
      ]
    },
    {
      "cell_type": "code",
      "execution_count": null,
      "id": "d5f24b3d",
      "metadata": {
        "id": "d5f24b3d",
        "outputId": "f996086c-b003-4815-d098-1e682150e1c9"
      },
      "outputs": [
        {
          "data": {
            "text/plain": [
              "array([[0, 1, 2],\n",
              "       [1, 2, 3],\n",
              "       [2, 3, 4]])"
            ]
          },
          "execution_count": 164,
          "metadata": {},
          "output_type": "execute_result"
        }
      ],
      "source": [
        "a9+a10"
      ]
    },
    {
      "cell_type": "markdown",
      "id": "915882a7",
      "metadata": {
        "id": "915882a7"
      },
      "source": [
        "# random seed"
      ]
    },
    {
      "cell_type": "code",
      "execution_count": null,
      "id": "3d87cb19",
      "metadata": {
        "id": "3d87cb19",
        "outputId": "eae9b038-8794-48c6-9113-a037aed189e4"
      },
      "outputs": [
        {
          "data": {
            "text/plain": [
              "0.19019027645906272"
            ]
          },
          "execution_count": 166,
          "metadata": {},
          "output_type": "execute_result"
        }
      ],
      "source": [
        "np.random.random()"
      ]
    },
    {
      "cell_type": "code",
      "execution_count": null,
      "id": "4eef5122",
      "metadata": {
        "id": "4eef5122",
        "outputId": "ad6315c9-fbe9-474f-b5de-138340747765"
      },
      "outputs": [
        {
          "data": {
            "text/plain": [
              "0.14473540366712634"
            ]
          },
          "execution_count": 167,
          "metadata": {},
          "output_type": "execute_result"
        }
      ],
      "source": [
        "np.random.random()"
      ]
    },
    {
      "cell_type": "code",
      "execution_count": null,
      "id": "e8611c29",
      "metadata": {
        "id": "e8611c29",
        "outputId": "7d3b7c70-f65a-403b-e31f-3116d68b595e"
      },
      "outputs": [
        {
          "data": {
            "text/plain": [
              "0.417022004702574"
            ]
          },
          "execution_count": 172,
          "metadata": {},
          "output_type": "execute_result"
        }
      ],
      "source": [
        "np.random.seed(1)\n",
        "np.random.random()"
      ]
    },
    {
      "cell_type": "code",
      "execution_count": null,
      "id": "093ef326",
      "metadata": {
        "id": "093ef326",
        "outputId": "03affa72-f9b6-4c11-808c-9545878a3137"
      },
      "outputs": [
        {
          "data": {
            "text/plain": [
              "0.417022004702574"
            ]
          },
          "execution_count": 173,
          "metadata": {},
          "output_type": "execute_result"
        }
      ],
      "source": [
        "np.random.seed(1)\n",
        "np.random.random()"
      ]
    },
    {
      "cell_type": "code",
      "execution_count": null,
      "id": "dda389c7",
      "metadata": {
        "id": "dda389c7",
        "outputId": "b5fa4c62-8ea6-48f7-ea4a-89a0bca1e022"
      },
      "outputs": [
        {
          "data": {
            "text/plain": [
              "2.676341902399038"
            ]
          },
          "execution_count": 179,
          "metadata": {},
          "output_type": "execute_result"
        }
      ],
      "source": [
        "np.random.uniform(1,10)"
      ]
    },
    {
      "cell_type": "code",
      "execution_count": null,
      "id": "2f061ae4",
      "metadata": {
        "id": "2f061ae4",
        "outputId": "8e9c985e-60c2-4855-e25b-b45033f8cc8e"
      },
      "outputs": [
        {
          "data": {
            "text/plain": [
              "array([8.51163105, 1.1645945 , 7.75129883, 9.8997498 , 7.73349089,\n",
              "       3.52399593, 8.10351396, 1.92903406, 5.03104174, 9.17735953])"
            ]
          },
          "execution_count": 183,
          "metadata": {},
          "output_type": "execute_result"
        }
      ],
      "source": [
        "np.random.uniform(1,10,10)"
      ]
    },
    {
      "cell_type": "code",
      "execution_count": null,
      "id": "4d2ea24c",
      "metadata": {
        "id": "4d2ea24c",
        "outputId": "af3eaa13-5191-494b-ea74-80f965275846"
      },
      "outputs": [
        {
          "data": {
            "text/plain": [
              "array([[3.64252734, 3.58997805],\n",
              "       [2.17025715, 1.17430262],\n",
              "       [7.1095198 , 2.90465304],\n",
              "       [3.38991993, 5.42415843],\n",
              "       [1.48026291, 6.16705845]])"
            ]
          },
          "execution_count": 185,
          "metadata": {},
          "output_type": "execute_result"
        }
      ],
      "source": [
        "np.random.uniform(1,10,10).reshape(5,2)"
      ]
    },
    {
      "cell_type": "code",
      "execution_count": null,
      "id": "a02444f3",
      "metadata": {
        "id": "a02444f3",
        "outputId": "fdc7016c-a9db-4c06-d5a8-c22dde2c26f3"
      },
      "outputs": [
        {
          "data": {
            "text/plain": [
              "array([1, 9, 8, 8, 2])"
            ]
          },
          "execution_count": 190,
          "metadata": {},
          "output_type": "execute_result"
        }
      ],
      "source": [
        "np.random.randint(1,10,5)"
      ]
    },
    {
      "cell_type": "code",
      "execution_count": null,
      "id": "916e8d00",
      "metadata": {
        "id": "916e8d00",
        "outputId": "9d3acc79-16df-445f-acaa-3f37fec44c3d"
      },
      "outputs": [
        {
          "data": {
            "text/plain": [
              "array([[2, 4],\n",
              "       [1, 9],\n",
              "       [7, 5]])"
            ]
          },
          "execution_count": 191,
          "metadata": {},
          "output_type": "execute_result"
        }
      ],
      "source": [
        "np.random.randint(1,10,6).reshape(3,2)"
      ]
    },
    {
      "cell_type": "raw",
      "id": "dc3e5598",
      "metadata": {
        "id": "dc3e5598"
      },
      "source": [
        "#argmax  procides index of the maximum value"
      ]
    },
    {
      "cell_type": "code",
      "execution_count": null,
      "id": "e5de4e7f",
      "metadata": {
        "id": "e5de4e7f"
      },
      "outputs": [],
      "source": [
        "a = np.random.randint(1,20,10)"
      ]
    },
    {
      "cell_type": "code",
      "execution_count": null,
      "id": "3975fe35",
      "metadata": {
        "id": "3975fe35",
        "outputId": "a6b92242-1f28-4553-f9b6-8d238ab5eab2"
      },
      "outputs": [
        {
          "data": {
            "text/plain": [
              "14"
            ]
          },
          "execution_count": 194,
          "metadata": {},
          "output_type": "execute_result"
        }
      ],
      "source": [
        "np.max(a)"
      ]
    },
    {
      "cell_type": "code",
      "execution_count": null,
      "id": "268da9c7",
      "metadata": {
        "id": "268da9c7",
        "outputId": "68eb7fd3-7e83-4c68-91bc-c0b2bd48edbf"
      },
      "outputs": [
        {
          "data": {
            "text/plain": [
              "5"
            ]
          },
          "execution_count": 195,
          "metadata": {},
          "output_type": "execute_result"
        }
      ],
      "source": [
        "np.argmax(a)"
      ]
    },
    {
      "cell_type": "code",
      "execution_count": null,
      "id": "2071fcf8",
      "metadata": {
        "id": "2071fcf8",
        "outputId": "b8a3a4fd-8e90-4078-9c59-0b65838c199c"
      },
      "outputs": [
        {
          "data": {
            "text/plain": [
              "14"
            ]
          },
          "execution_count": 197,
          "metadata": {},
          "output_type": "execute_result"
        }
      ],
      "source": [
        "a[np.argmax(a)]"
      ]
    },
    {
      "cell_type": "code",
      "execution_count": null,
      "id": "3ac8f8db",
      "metadata": {
        "id": "3ac8f8db",
        "outputId": "ad9a2fa5-b078-492f-af92-d1c8089c163d"
      },
      "outputs": [
        {
          "data": {
            "text/plain": [
              "3"
            ]
          },
          "execution_count": 198,
          "metadata": {},
          "output_type": "execute_result"
        }
      ],
      "source": [
        "a[np.argmin(a)]"
      ]
    },
    {
      "cell_type": "code",
      "execution_count": null,
      "id": "a2b99113",
      "metadata": {
        "id": "a2b99113",
        "outputId": "2e486d18-103c-49c5-e49d-a5ac4a3407f2"
      },
      "outputs": [
        {
          "data": {
            "text/plain": [
              "array([ 7,  3, 13, 12,  8, 14,  9, 12, 13, 12])"
            ]
          },
          "execution_count": 199,
          "metadata": {},
          "output_type": "execute_result"
        }
      ],
      "source": [
        "a"
      ]
    },
    {
      "cell_type": "code",
      "execution_count": null,
      "id": "2941eaa7",
      "metadata": {
        "id": "2941eaa7",
        "outputId": "7e528374-de07-4b1d-ac82-3696a7cd2c2c"
      },
      "outputs": [
        {
          "name": "stdout",
          "output_type": "stream",
          "text": [
            "[-1 -1 -1 12  8 14 -1 12 -1 12]\n"
          ]
        }
      ],
      "source": [
        "a[a%2 == 1] = -1\n",
        "print(a)"
      ]
    },
    {
      "cell_type": "code",
      "execution_count": null,
      "id": "5e984af4",
      "metadata": {
        "id": "5e984af4",
        "outputId": "60780d9b-45bf-4cec-f8e4-2eb2589a4cfe"
      },
      "outputs": [
        {
          "data": {
            "text/plain": [
              "array([13,  8,  3, 11,  1, 10, 19,  7,  3,  8])"
            ]
          },
          "execution_count": 203,
          "metadata": {},
          "output_type": "execute_result"
        }
      ],
      "source": [
        "a = np.random.randint(1,20,10)\n",
        "a"
      ]
    },
    {
      "cell_type": "code",
      "execution_count": null,
      "id": "cdb64e79",
      "metadata": {
        "id": "cdb64e79"
      },
      "outputs": [],
      "source": [
        "b = np.where(a%2==1,-1,a)"
      ]
    },
    {
      "cell_type": "code",
      "execution_count": null,
      "id": "db058965",
      "metadata": {
        "id": "db058965",
        "outputId": "6803438b-cc3e-4b85-f426-ad93c3cc2201"
      },
      "outputs": [
        {
          "data": {
            "text/plain": [
              "array([-1,  8, -1, -1, -1, 10, -1, -1, -1,  8])"
            ]
          },
          "execution_count": 205,
          "metadata": {},
          "output_type": "execute_result"
        }
      ],
      "source": [
        "b"
      ]
    },
    {
      "cell_type": "code",
      "execution_count": null,
      "id": "e747e765",
      "metadata": {
        "id": "e747e765",
        "outputId": "094fe32c-ad15-44d7-bfaf-fe7163b3633c"
      },
      "outputs": [
        {
          "data": {
            "text/plain": [
              "array([13,  8,  3, 11,  1, 10, 19,  7,  3,  8])"
            ]
          },
          "execution_count": 206,
          "metadata": {},
          "output_type": "execute_result"
        }
      ],
      "source": [
        "a"
      ]
    },
    {
      "cell_type": "code",
      "execution_count": null,
      "id": "37bbf1e9",
      "metadata": {
        "id": "37bbf1e9",
        "outputId": "04972122-45da-4764-914f-d76310607ce3"
      },
      "outputs": [
        {
          "data": {
            "text/plain": [
              "array([ 1,  3,  3,  7,  8,  8, 10, 11, 13, 19])"
            ]
          },
          "execution_count": 207,
          "metadata": {},
          "output_type": "execute_result"
        }
      ],
      "source": [
        "a = np.sort(a)\n",
        "a"
      ]
    },
    {
      "cell_type": "code",
      "execution_count": null,
      "id": "939a4142",
      "metadata": {
        "id": "939a4142",
        "outputId": "34654b31-3351-419f-e769-2c627e47a650"
      },
      "outputs": [
        {
          "data": {
            "text/plain": [
              "8.0"
            ]
          },
          "execution_count": 209,
          "metadata": {},
          "output_type": "execute_result"
        }
      ],
      "source": [
        "np.percentile(a,50)"
      ]
    },
    {
      "cell_type": "code",
      "execution_count": null,
      "id": "6f52affa",
      "metadata": {
        "id": "6f52affa",
        "outputId": "76fa7da8-9dc0-4aff-9337-1e28c110b241"
      },
      "outputs": [
        {
          "data": {
            "text/plain": [
              "13.599999999999998"
            ]
          },
          "execution_count": 210,
          "metadata": {},
          "output_type": "execute_result"
        }
      ],
      "source": [
        "np.percentile(a,90)"
      ]
    },
    {
      "cell_type": "code",
      "execution_count": null,
      "id": "486413a7",
      "metadata": {
        "id": "486413a7",
        "outputId": "d54abc7d-369d-4251-f76c-e801d530bf98"
      },
      "outputs": [
        {
          "data": {
            "text/plain": [
              "19.0"
            ]
          },
          "execution_count": 211,
          "metadata": {},
          "output_type": "execute_result"
        }
      ],
      "source": [
        "np.percentile(a,100)"
      ]
    },
    {
      "cell_type": "code",
      "execution_count": null,
      "id": "387e6063",
      "metadata": {
        "id": "387e6063"
      },
      "outputs": [],
      "source": []
    },
    {
      "cell_type": "code",
      "execution_count": null,
      "id": "9d0fcb94",
      "metadata": {
        "id": "9d0fcb94"
      },
      "outputs": [],
      "source": []
    }
  ],
  "metadata": {
    "kernelspec": {
      "display_name": "Python 3 (ipykernel)",
      "language": "python",
      "name": "python3"
    },
    "language_info": {
      "codemirror_mode": {
        "name": "ipython",
        "version": 3
      },
      "file_extension": ".py",
      "mimetype": "text/x-python",
      "name": "python",
      "nbconvert_exporter": "python",
      "pygments_lexer": "ipython3",
      "version": "3.11.0"
    },
    "colab": {
      "provenance": [],
      "toc_visible": true,
      "include_colab_link": true
    }
  },
  "nbformat": 4,
  "nbformat_minor": 5
}